{
 "cells": [
  {
   "cell_type": "code",
   "execution_count": 1,
   "id": "9c905c09",
   "metadata": {},
   "outputs": [],
   "source": [
    "# Import the dependencies.\n",
    "import pandas as pd\n",
    "import matplotlib.pyplot as plt\n",
    "import numpy as np"
   ]
  },
  {
   "cell_type": "code",
   "execution_count": 2,
   "id": "6db6e0ea",
   "metadata": {},
   "outputs": [
    {
     "data": {
      "text/plain": [
       "<zip at 0x1e92db44388>"
      ]
     },
     "execution_count": 2,
     "metadata": {},
     "output_type": "execute_result"
    }
   ],
   "source": [
    "# Create a set of random latitude and longitude combinations.\n",
    "lats = np.random.uniform(low=-90.000, high=90.000, size=20)    # DEBUG - CHANGE TO 2000\n",
    "lngs = np.random.uniform(low=-180.000, high=180.000, size=20)    # DEBUG - CHANGE TO 2000\n",
    "lat_lngs = zip(lats, lngs)\n",
    "lat_lngs"
   ]
  },
  {
   "cell_type": "code",
   "execution_count": 3,
   "id": "c966a6fd",
   "metadata": {},
   "outputs": [],
   "source": [
    "# Add the latitudes and longitudes to a list.\n",
    "coordinates = list(lat_lngs)"
   ]
  },
  {
   "cell_type": "code",
   "execution_count": 4,
   "id": "4aff5519",
   "metadata": {},
   "outputs": [],
   "source": [
    "# Use the citipy module to determine city based on latitude and longitude.\n",
    "from citipy import citipy"
   ]
  },
  {
   "cell_type": "code",
   "execution_count": 5,
   "id": "8eef5a5c",
   "metadata": {},
   "outputs": [
    {
     "data": {
      "text/plain": [
       "19"
      ]
     },
     "execution_count": 5,
     "metadata": {},
     "output_type": "execute_result"
    }
   ],
   "source": [
    "# Create a list for holding the cities.\n",
    "cities = []\n",
    "# Identify the nearest city for each latitude and longitude combination.\n",
    "for coordinate in coordinates:\n",
    "    city = citipy.nearest_city(coordinate[0], coordinate[1]).city_name\n",
    "\n",
    "    # If the city is unique, then we will add it to the cities list.\n",
    "    if city not in cities:\n",
    "        cities.append(city)\n",
    "# Print the city count to confirm sufficient count.\n",
    "len(cities)"
   ]
  },
  {
   "cell_type": "code",
   "execution_count": 6,
   "id": "3413f43d",
   "metadata": {},
   "outputs": [],
   "source": [
    "# Import the requests library.\n",
    "import requests\n",
    "\n",
    "# Import the API key.\n",
    "from config import weather_api_key"
   ]
  },
  {
   "cell_type": "code",
   "execution_count": 7,
   "id": "3d809db2",
   "metadata": {},
   "outputs": [],
   "source": [
    "# Starting URL for Weather Map API Call.\n",
    "url = \"http://api.openweathermap.org/data/2.5/weather?units=Imperial&APPID=\" + weather_api_key\n",
    "# print(url)"
   ]
  },
  {
   "cell_type": "code",
   "execution_count": 8,
   "id": "5ec048dd",
   "metadata": {},
   "outputs": [],
   "source": [
    "# Import the datetime module from the datetime library.\n",
    "from datetime import datetime"
   ]
  },
  {
   "cell_type": "code",
   "execution_count": 27,
   "id": "44de3bb4",
   "metadata": {},
   "outputs": [
    {
     "name": "stdout",
     "output_type": "stream",
     "text": [
      "Beginning Data Retrieval     \n",
      "-----------------------------\n",
      "Processing Record 1 of Set 1 | margate\n",
      "City not found. Skipping...\n",
      "Processing Record 2 of Set 1 | ushuaia\n",
      "City not found. Skipping...\n",
      "Processing Record 3 of Set 1 | east london\n",
      "City not found. Skipping...\n",
      "Processing Record 4 of Set 1 | tura\n",
      "City not found. Skipping...\n",
      "Processing Record 5 of Set 1 | srednekolymsk\n",
      "City not found. Skipping...\n",
      "Processing Record 6 of Set 1 | keti bandar\n",
      "City not found. Skipping...\n",
      "Processing Record 7 of Set 1 | kapaa\n",
      "City not found. Skipping...\n",
      "Processing Record 8 of Set 1 | westport\n",
      "City not found. Skipping...\n",
      "Processing Record 9 of Set 1 | mataura\n",
      "City not found. Skipping...\n",
      "Processing Record 10 of Set 1 | saint-philippe\n",
      "City not found. Skipping...\n",
      "Processing Record 11 of Set 1 | new norfolk\n",
      "City not found. Skipping...\n",
      "Processing Record 12 of Set 1 | atuona\n",
      "City not found. Skipping...\n",
      "Processing Record 13 of Set 1 | bredasdorp\n",
      "City not found. Skipping...\n",
      "Processing Record 14 of Set 1 | port elizabeth\n",
      "City not found. Skipping...\n",
      "Processing Record 15 of Set 1 | moerai\n",
      "City not found. Skipping...\n",
      "Processing Record 16 of Set 1 | hilo\n",
      "City not found. Skipping...\n",
      "Processing Record 17 of Set 1 | mergui\n",
      "City not found. Skipping...\n",
      "Processing Record 18 of Set 1 | sur\n",
      "City not found. Skipping...\n",
      "Processing Record 19 of Set 1 | yabelo\n",
      "City not found. Skipping...\n",
      "-----------------------------\n",
      "Data Retrieval Complete      \n",
      "-----------------------------\n"
     ]
    }
   ],
   "source": [
    "# Create an empty list to hold the weather data.\n",
    "city_data = []\n",
    "# Print the beginning of the logging.\n",
    "print(\"Beginning Data Retrieval     \")\n",
    "print(\"-----------------------------\")\n",
    "\n",
    "# Create counters.\n",
    "record_count = 1\n",
    "set_count = 1\n",
    "\n",
    "# Loop through all the cities in the list.\n",
    "for i, city in enumerate(cities):\n",
    "\n",
    "    # Group cities in sets of 50 for logging purposes.\n",
    "    if (i % 50 == 0 and i >= 50):\n",
    "        set_count += 1\n",
    "        record_count = 1\n",
    "    # Create endpoint URL with each city.\n",
    "    city_url = url + \"&q=\" + city.replace(\" \",\"+\")\n",
    "\n",
    "    # Log the URL, record, and set numbers and the city.\n",
    "    print(f\"Processing Record {record_count} of Set {set_count} | {city}\")\n",
    "    # Add 1 to the record count.\n",
    "    record_count += 1\n",
    "    \n",
    "# Run an API request for each of the cities.\n",
    "    try:\n",
    "        # Parse the JSON and retrieve data.\n",
    "        city_weather = requests.get(city_url).json()\n",
    "        # Parse out the needed data.\n",
    "        city_country = city_weather[\"sys\"][\"country\"]\n",
    "        city_lat = city_weather[\"coord\"][\"lat\"]\n",
    "        city_lng = city_weather[\"coord\"][\"lon\"]\n",
    "        city_max_temp = city_weather[\"main\"][\"temp_max\"]\n",
    "        city_humidity = city_weather[\"main\"][\"humidity\"]\n",
    "        city_clouds = city_weather[\"clouds\"][\"all\"]\n",
    "        city_wind = city_weather[\"wind\"][\"speed\"]\n",
    "        city_descr = city_weather[\"weather\"]\n",
    "        \n",
    "        # Convert the date to ISO standard.\n",
    "        city_date = datetime.utcfromtimestamp(city_weather[\"dt\"]).strftime('%Y-%m-%d %H:%M:%S')\n",
    "        # Append the city information into city_data list.\n",
    "        city_data.append({\"City\": city.title(),\n",
    "                          \"Country\": city_country,\n",
    "                          \"Lat\": city_lat,\n",
    "                          \"Lng\": city_lng,\n",
    "                          \"Max Temp\": city_max_temp,\n",
    "                          \"Humidity\": city_humidity,\n",
    "                          \"Cloudiness\": city_clouds,\n",
    "                          \"Wind Speed\": city_wind,\n",
    "                          \"Current Description\": city_descr})\n",
    "\n",
    "# If an error is experienced, skip the city.\n",
    "    except:\n",
    "        print(\"City not found. Skipping...\")\n",
    "        pass\n",
    "\n",
    "# Indicate that Data Loading is complete.\n",
    "print(\"-----------------------------\")\n",
    "print(\"Data Retrieval Complete      \")\n",
    "print(\"-----------------------------\")"
   ]
  },
  {
   "cell_type": "code",
   "execution_count": 25,
   "id": "efb207c9",
   "metadata": {},
   "outputs": [
    {
     "data": {
      "text/html": [
       "<div>\n",
       "<style scoped>\n",
       "    .dataframe tbody tr th:only-of-type {\n",
       "        vertical-align: middle;\n",
       "    }\n",
       "\n",
       "    .dataframe tbody tr th {\n",
       "        vertical-align: top;\n",
       "    }\n",
       "\n",
       "    .dataframe thead th {\n",
       "        text-align: right;\n",
       "    }\n",
       "</style>\n",
       "<table border=\"1\" class=\"dataframe\">\n",
       "  <thead>\n",
       "    <tr style=\"text-align: right;\">\n",
       "      <th></th>\n",
       "      <th>City</th>\n",
       "      <th>Country</th>\n",
       "      <th>Lat</th>\n",
       "      <th>Lng</th>\n",
       "      <th>Max Temp</th>\n",
       "      <th>Humidity</th>\n",
       "      <th>Cloudiness</th>\n",
       "      <th>Wind Speed</th>\n",
       "      <th>Current Description</th>\n",
       "    </tr>\n",
       "  </thead>\n",
       "  <tbody>\n",
       "    <tr>\n",
       "      <th>0</th>\n",
       "      <td>Margate</td>\n",
       "      <td>GB</td>\n",
       "      <td>51.3813</td>\n",
       "      <td>1.3862</td>\n",
       "      <td>64.04</td>\n",
       "      <td>71</td>\n",
       "      <td>80</td>\n",
       "      <td>5.99</td>\n",
       "      <td>{'id': 803, 'main': 'Clouds', 'description': '...</td>\n",
       "    </tr>\n",
       "    <tr>\n",
       "      <th>1</th>\n",
       "      <td>Ushuaia</td>\n",
       "      <td>AR</td>\n",
       "      <td>-54.8000</td>\n",
       "      <td>-68.3000</td>\n",
       "      <td>44.26</td>\n",
       "      <td>57</td>\n",
       "      <td>75</td>\n",
       "      <td>16.11</td>\n",
       "      <td>{'id': 803, 'main': 'Clouds', 'description': '...</td>\n",
       "    </tr>\n",
       "    <tr>\n",
       "      <th>2</th>\n",
       "      <td>East London</td>\n",
       "      <td>ZA</td>\n",
       "      <td>-33.0153</td>\n",
       "      <td>27.9116</td>\n",
       "      <td>67.14</td>\n",
       "      <td>88</td>\n",
       "      <td>75</td>\n",
       "      <td>21.85</td>\n",
       "      <td>{'id': 803, 'main': 'Clouds', 'description': '...</td>\n",
       "    </tr>\n",
       "    <tr>\n",
       "      <th>3</th>\n",
       "      <td>Tura</td>\n",
       "      <td>IN</td>\n",
       "      <td>25.5198</td>\n",
       "      <td>90.2201</td>\n",
       "      <td>70.09</td>\n",
       "      <td>94</td>\n",
       "      <td>18</td>\n",
       "      <td>1.95</td>\n",
       "      <td>{'id': 801, 'main': 'Clouds', 'description': '...</td>\n",
       "    </tr>\n",
       "    <tr>\n",
       "      <th>4</th>\n",
       "      <td>Srednekolymsk</td>\n",
       "      <td>RU</td>\n",
       "      <td>67.4500</td>\n",
       "      <td>153.6833</td>\n",
       "      <td>-8.55</td>\n",
       "      <td>98</td>\n",
       "      <td>46</td>\n",
       "      <td>3.40</td>\n",
       "      <td>{'id': 802, 'main': 'Clouds', 'description': '...</td>\n",
       "    </tr>\n",
       "    <tr>\n",
       "      <th>5</th>\n",
       "      <td>Keti Bandar</td>\n",
       "      <td>PK</td>\n",
       "      <td>24.1447</td>\n",
       "      <td>67.4497</td>\n",
       "      <td>84.45</td>\n",
       "      <td>42</td>\n",
       "      <td>0</td>\n",
       "      <td>12.39</td>\n",
       "      <td>{'id': 800, 'main': 'Clear', 'description': 'c...</td>\n",
       "    </tr>\n",
       "    <tr>\n",
       "      <th>6</th>\n",
       "      <td>Kapaa</td>\n",
       "      <td>US</td>\n",
       "      <td>22.0752</td>\n",
       "      <td>-159.3190</td>\n",
       "      <td>75.18</td>\n",
       "      <td>94</td>\n",
       "      <td>1</td>\n",
       "      <td>4.16</td>\n",
       "      <td>{'id': 800, 'main': 'Clear', 'description': 'c...</td>\n",
       "    </tr>\n",
       "    <tr>\n",
       "      <th>7</th>\n",
       "      <td>Westport</td>\n",
       "      <td>US</td>\n",
       "      <td>41.1415</td>\n",
       "      <td>-73.3579</td>\n",
       "      <td>58.91</td>\n",
       "      <td>86</td>\n",
       "      <td>100</td>\n",
       "      <td>3.00</td>\n",
       "      <td>{'id': 804, 'main': 'Clouds', 'description': '...</td>\n",
       "    </tr>\n",
       "    <tr>\n",
       "      <th>8</th>\n",
       "      <td>Mataura</td>\n",
       "      <td>NZ</td>\n",
       "      <td>-46.1927</td>\n",
       "      <td>168.8643</td>\n",
       "      <td>52.47</td>\n",
       "      <td>89</td>\n",
       "      <td>90</td>\n",
       "      <td>2.08</td>\n",
       "      <td>{'id': 804, 'main': 'Clouds', 'description': '...</td>\n",
       "    </tr>\n",
       "    <tr>\n",
       "      <th>9</th>\n",
       "      <td>Saint-Philippe</td>\n",
       "      <td>RE</td>\n",
       "      <td>-21.3585</td>\n",
       "      <td>55.7679</td>\n",
       "      <td>80.15</td>\n",
       "      <td>79</td>\n",
       "      <td>89</td>\n",
       "      <td>7.58</td>\n",
       "      <td>{'id': 500, 'main': 'Rain', 'description': 'li...</td>\n",
       "    </tr>\n",
       "  </tbody>\n",
       "</table>\n",
       "</div>"
      ],
      "text/plain": [
       "             City Country      Lat       Lng  Max Temp  Humidity  Cloudiness  \\\n",
       "0         Margate      GB  51.3813    1.3862     64.04        71          80   \n",
       "1         Ushuaia      AR -54.8000  -68.3000     44.26        57          75   \n",
       "2     East London      ZA -33.0153   27.9116     67.14        88          75   \n",
       "3            Tura      IN  25.5198   90.2201     70.09        94          18   \n",
       "4   Srednekolymsk      RU  67.4500  153.6833     -8.55        98          46   \n",
       "5     Keti Bandar      PK  24.1447   67.4497     84.45        42           0   \n",
       "6           Kapaa      US  22.0752 -159.3190     75.18        94           1   \n",
       "7        Westport      US  41.1415  -73.3579     58.91        86         100   \n",
       "8         Mataura      NZ -46.1927  168.8643     52.47        89          90   \n",
       "9  Saint-Philippe      RE -21.3585   55.7679     80.15        79          89   \n",
       "\n",
       "   Wind Speed                                Current Description  \n",
       "0        5.99  {'id': 803, 'main': 'Clouds', 'description': '...  \n",
       "1       16.11  {'id': 803, 'main': 'Clouds', 'description': '...  \n",
       "2       21.85  {'id': 803, 'main': 'Clouds', 'description': '...  \n",
       "3        1.95  {'id': 801, 'main': 'Clouds', 'description': '...  \n",
       "4        3.40  {'id': 802, 'main': 'Clouds', 'description': '...  \n",
       "5       12.39  {'id': 800, 'main': 'Clear', 'description': 'c...  \n",
       "6        4.16  {'id': 800, 'main': 'Clear', 'description': 'c...  \n",
       "7        3.00  {'id': 804, 'main': 'Clouds', 'description': '...  \n",
       "8        2.08  {'id': 804, 'main': 'Clouds', 'description': '...  \n",
       "9        7.58  {'id': 500, 'main': 'Rain', 'description': 'li...  "
      ]
     },
     "execution_count": 25,
     "metadata": {},
     "output_type": "execute_result"
    }
   ],
   "source": [
    "# Convert the array of dictionaries to a Pandas DataFrame.\n",
    "city_data_df = pd.DataFrame(city_data)\n",
    "city_data_df.head(10)"
   ]
  },
  {
   "cell_type": "code",
   "execution_count": 11,
   "id": "2f46a60c",
   "metadata": {},
   "outputs": [
    {
     "data": {
      "text/plain": [
       "[{'id': 803, 'main': 'Clouds', 'description': 'broken clouds', 'icon': '04d'}]"
      ]
     },
     "execution_count": 11,
     "metadata": {},
     "output_type": "execute_result"
    }
   ],
   "source": [
    "# city_descr = city_weather[\"weather\"]\n",
    "city_descr"
   ]
  },
  {
   "cell_type": "code",
   "execution_count": 12,
   "id": "fd3e5f69",
   "metadata": {},
   "outputs": [
    {
     "data": {
      "text/plain": [
       "326036"
      ]
     },
     "execution_count": 12,
     "metadata": {},
     "output_type": "execute_result"
    }
   ],
   "source": [
    "city_descr = city_weather[\"id\"]\n",
    "city_descr"
   ]
  },
  {
   "cell_type": "code",
   "execution_count": 13,
   "id": "bde69b43",
   "metadata": {},
   "outputs": [
    {
     "data": {
      "text/plain": [
       "list"
      ]
     },
     "execution_count": 13,
     "metadata": {},
     "output_type": "execute_result"
    }
   ],
   "source": [
    "type(city_weather['weather'])"
   ]
  },
  {
   "cell_type": "code",
   "execution_count": 19,
   "id": "216438cf",
   "metadata": {},
   "outputs": [
    {
     "data": {
      "text/plain": [
       "[{'id': 803, 'main': 'Clouds', 'description': 'broken clouds', 'icon': '04d'}]"
      ]
     },
     "execution_count": 19,
     "metadata": {},
     "output_type": "execute_result"
    }
   ],
   "source": [
    "city_weather[\"weather\"]"
   ]
  },
  {
   "cell_type": "code",
   "execution_count": 22,
   "id": "fbde646c",
   "metadata": {},
   "outputs": [
    {
     "data": {
      "text/plain": [
       "1"
      ]
     },
     "execution_count": 22,
     "metadata": {},
     "output_type": "execute_result"
    }
   ],
   "source": [
    "len(city_weather[\"weather\"])"
   ]
  },
  {
   "cell_type": "code",
   "execution_count": null,
   "id": "8a8fc1b0",
   "metadata": {},
   "outputs": [],
   "source": []
  }
 ],
 "metadata": {
  "kernelspec": {
   "display_name": "PythonData",
   "language": "python",
   "name": "pythondata"
  },
  "language_info": {
   "codemirror_mode": {
    "name": "ipython",
    "version": 3
   },
   "file_extension": ".py",
   "mimetype": "text/x-python",
   "name": "python",
   "nbconvert_exporter": "python",
   "pygments_lexer": "ipython3",
   "version": "3.7.10"
  }
 },
 "nbformat": 4,
 "nbformat_minor": 5
}
